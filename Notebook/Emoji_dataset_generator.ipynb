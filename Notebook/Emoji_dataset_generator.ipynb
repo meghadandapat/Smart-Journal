{
 "cells": [
  {
   "cell_type": "code",
   "execution_count": 49,
   "id": "cc487d89",
   "metadata": {},
   "outputs": [],
   "source": [
    "import numpy as np\n",
    "import pandas as pd \n",
    "import os\n",
    "from nltk.corpus import stopwords\n",
    "from textblob import Word\n",
    "import re\n",
    "from sklearn import preprocessing\n",
    "from sklearn.model_selection import train_test_split\n",
    "from sklearn.feature_extraction.text import TfidfVectorizer\n",
    "from sklearn.feature_extraction.text import CountVectorizer\n",
    "from sklearn.metrics import accuracy_score\n",
    "from sklearn.naive_bayes import MultinomialNB\n",
    "from sklearn.neural_network import MLPClassifier\n",
    "from sklearn.linear_model import SGDClassifier\n",
    "from sklearn.linear_model import LogisticRegression\n",
    "from sklearn.ensemble import RandomForestClassifier\n",
    "from xgboost import XGBClassifier\n",
    "import warnings\n",
    "warnings.filterwarnings('ignore')"
   ]
  },
  {
   "cell_type": "code",
   "execution_count": 50,
   "id": "c1ff0fe2",
   "metadata": {},
   "outputs": [],
   "source": [
    "df = pd.read_csv(\"EmotionDatasetpart2.xlsx - train.csv\",names=[\"Text\",\"Emotion\"])"
   ]
  },
  {
   "cell_type": "code",
   "execution_count": 51,
   "id": "bb5da2d8",
   "metadata": {},
   "outputs": [
    {
     "data": {
      "text/html": [
       "<div>\n",
       "<style scoped>\n",
       "    .dataframe tbody tr th:only-of-type {\n",
       "        vertical-align: middle;\n",
       "    }\n",
       "\n",
       "    .dataframe tbody tr th {\n",
       "        vertical-align: top;\n",
       "    }\n",
       "\n",
       "    .dataframe thead th {\n",
       "        text-align: right;\n",
       "    }\n",
       "</style>\n",
       "<table border=\"1\" class=\"dataframe\">\n",
       "  <thead>\n",
       "    <tr style=\"text-align: right;\">\n",
       "      <th></th>\n",
       "      <th>Text</th>\n",
       "      <th>Emotion</th>\n",
       "    </tr>\n",
       "  </thead>\n",
       "  <tbody>\n",
       "    <tr>\n",
       "      <th>1</th>\n",
       "      <td>i didnt feel humiliated</td>\n",
       "      <td>sadness</td>\n",
       "    </tr>\n",
       "    <tr>\n",
       "      <th>2</th>\n",
       "      <td>i can go from feeling so hopeless to so damned...</td>\n",
       "      <td>sadness</td>\n",
       "    </tr>\n",
       "    <tr>\n",
       "      <th>3</th>\n",
       "      <td>im grabbing a minute to post i feel greedy wrong</td>\n",
       "      <td>anger</td>\n",
       "    </tr>\n",
       "    <tr>\n",
       "      <th>4</th>\n",
       "      <td>i am ever feeling nostalgic about the fireplac...</td>\n",
       "      <td>love</td>\n",
       "    </tr>\n",
       "    <tr>\n",
       "      <th>5</th>\n",
       "      <td>i am feeling grouchy</td>\n",
       "      <td>anger</td>\n",
       "    </tr>\n",
       "  </tbody>\n",
       "</table>\n",
       "</div>"
      ],
      "text/plain": [
       "                                                Text  Emotion\n",
       "1                            i didnt feel humiliated  sadness\n",
       "2  i can go from feeling so hopeless to so damned...  sadness\n",
       "3   im grabbing a minute to post i feel greedy wrong    anger\n",
       "4  i am ever feeling nostalgic about the fireplac...     love\n",
       "5                               i am feeling grouchy    anger"
      ]
     },
     "execution_count": 51,
     "metadata": {},
     "output_type": "execute_result"
    }
   ],
   "source": [
    "df = df.drop(df.index[0])\n",
    "df.head()"
   ]
  },
  {
   "cell_type": "code",
   "execution_count": 52,
   "id": "b1dd4097",
   "metadata": {},
   "outputs": [
    {
     "data": {
      "text/plain": [
       "1                                  i didnt feel humiliated\n",
       "2        i can go from feeling so hopeless to so damned...\n",
       "3         im grabbing a minute to post i feel greedy wrong\n",
       "4        i am ever feeling nostalgic about the fireplac...\n",
       "5                                     i am feeling grouchy\n",
       "                               ...                        \n",
       "15996    i just had a very brief time in the beanbag an...\n",
       "15997    i am now turning and i feel pathetic that i am...\n",
       "15998                       i feel strong and good overall\n",
       "15999    i feel like this was such a rude comment and i...\n",
       "16000    i know a lot but i feel so stupid because i ca...\n",
       "Name: Text, Length: 16000, dtype: object"
      ]
     },
     "execution_count": 52,
     "metadata": {},
     "output_type": "execute_result"
    }
   ],
   "source": [
    "df.Text"
   ]
  },
  {
   "cell_type": "code",
   "execution_count": 53,
   "id": "5799b496",
   "metadata": {},
   "outputs": [
    {
     "data": {
      "text/plain": [
       "(16000, 2)"
      ]
     },
     "execution_count": 53,
     "metadata": {},
     "output_type": "execute_result"
    }
   ],
   "source": [
    "df.shape"
   ]
  },
  {
   "cell_type": "code",
   "execution_count": 54,
   "id": "2aec6c86",
   "metadata": {},
   "outputs": [
    {
     "data": {
      "text/plain": [
       "array(['sadness', 'anger', 'love', 'surprise', 'fear', 'joy'],\n",
       "      dtype=object)"
      ]
     },
     "execution_count": 54,
     "metadata": {},
     "output_type": "execute_result"
    }
   ],
   "source": [
    "df.Emotion.unique()"
   ]
  },
  {
   "cell_type": "markdown",
   "id": "21ba89a3",
   "metadata": {},
   "source": [
    "Adding emoji"
   ]
  },
  {
   "cell_type": "code",
   "execution_count": 55,
   "id": "824e7492",
   "metadata": {},
   "outputs": [
    {
     "name": "stdout",
     "output_type": "stream",
     "text": [
      "💥\n",
      "<class 'str'>\n"
     ]
    }
   ],
   "source": [
    "anger_emoji = [\"😠\",\"👿\",\"💢\",\"💥\",\"🔥\",\"😡\",\"😒\"]\n",
    "sadness_emoji = [\"😔\",\"😢\",\"😞\",\"😭\",\"😥\",\"💔\",\"😟\",\"😓\",\"😖\",\"😾\",\"😿\",\"🙍‍\",\"🙍‍\"]\n",
    "love_emoji = [\"❤️\",\"💕\",\"💘\",\"💝\",\"💞\",\"😍\",\"💖\",\"💗\",\"💓\",\"😘\",\"😚\",\"🌹\",\"😻\",\"🤗\",\"🤟\",\"💞\",\"💙\",\"💚\"]\n",
    "surprise_emoji = [\"😱\",\"😲\",\"😮\",\"😯\",\"🤯\",\"🙀\",\"🎊\"]\n",
    "fear_emoji = [\"😨\",\"😰\",\"😱\",\"😬\",\"🥺\",\"💀\"]\n",
    "joy_emoji = [\"😂\",\"😃\",\"😀\",\"😊\",\"😍\",\"🤩\",\"😄\",\"😁\",\"😸\",\"😆\",\"🙌\"]\n",
    "\n",
    "import random\n",
    "random_element = random.choice(anger_emoji)\n",
    "print(random_element)\n",
    "print(type(random_element))"
   ]
  },
  {
   "cell_type": "code",
   "execution_count": 56,
   "id": "c3046204",
   "metadata": {},
   "outputs": [],
   "source": [
    "df['Text'][df['Emotion']==\"anger\"] = df['Text'].apply(lambda x: x +\" \"+ random.choice(anger_emoji))\n",
    "df['Text'][df['Emotion']==\"sadness\"] = df['Text'].apply(lambda x: x + \" \"+ random.choice(sadness_emoji))\n",
    "df['Text'][df['Emotion']==\"love\"] = df['Text'].apply(lambda x: x +\" \"+ random.choice(love_emoji))\n",
    "df['Text'][df['Emotion']==\"surprise\"] = df['Text'].apply(lambda x: x +\" \"+ random.choice(surprise_emoji))\n",
    "df['Text'][df['Emotion']==\"fear\"] = df['Text'].apply(lambda x: x +\" \"+ random.choice(fear_emoji))\n",
    "df['Text'][df['Emotion']==\"joy\"] = df['Text'].apply(lambda x: x +\" \"+ random.choice(joy_emoji))"
   ]
  },
  {
   "cell_type": "code",
   "execution_count": 57,
   "id": "a224bf43",
   "metadata": {},
   "outputs": [
    {
     "data": {
      "text/plain": [
       "4        i am ever feeling nostalgic about the fireplac...\n",
       "10                                   i feel romantic too 😻\n",
       "48       i can t let go of that sad feeling that i want...\n",
       "62       i ate i could feel a gentle tingle throughout ...\n",
       "69       i suppose my own truth needs to be shared i ha...\n",
       "                               ...                        \n",
       "15937    im better than the rest of you feeling but a f...\n",
       "15959    i feel there is going to be a sequel and i wou...\n",
       "15964    i love what i do and i feel so blessed and luc...\n",
       "15972    i feel it would not be loving of me not warn y...\n",
       "15995      i feel so sympathetic empathetic towards them 💗\n",
       "Name: Text, Length: 1304, dtype: object"
      ]
     },
     "execution_count": 57,
     "metadata": {},
     "output_type": "execute_result"
    }
   ],
   "source": [
    "df.Text[df.Emotion == 'love']"
   ]
  },
  {
   "cell_type": "code",
   "execution_count": 58,
   "id": "801129f9",
   "metadata": {},
   "outputs": [],
   "source": [
    "df.to_csv('emoji_textdata.csv')"
   ]
  },
  {
   "cell_type": "code",
   "execution_count": 59,
   "id": "30be24b1",
   "metadata": {},
   "outputs": [],
   "source": [
    "new_df = pd.read_csv('emoji_textdata.csv')"
   ]
  },
  {
   "cell_type": "code",
   "execution_count": 60,
   "id": "91ebc3fb",
   "metadata": {},
   "outputs": [
    {
     "data": {
      "text/plain": [
       "'i feel irritated and rejected without anyone doing anything or saying anything 👿'"
      ]
     },
     "execution_count": 60,
     "metadata": {},
     "output_type": "execute_result"
    }
   ],
   "source": [
    "new_df.Text[20]\n"
   ]
  },
  {
   "cell_type": "code",
   "execution_count": null,
   "id": "51829b35",
   "metadata": {},
   "outputs": [],
   "source": []
  }
 ],
 "metadata": {
  "kernelspec": {
   "display_name": "Python 3 (ipykernel)",
   "language": "python",
   "name": "python3"
  },
  "language_info": {
   "codemirror_mode": {
    "name": "ipython",
    "version": 3
   },
   "file_extension": ".py",
   "mimetype": "text/x-python",
   "name": "python",
   "nbconvert_exporter": "python",
   "pygments_lexer": "ipython3",
   "version": "3.9.0"
  }
 },
 "nbformat": 4,
 "nbformat_minor": 5
}
