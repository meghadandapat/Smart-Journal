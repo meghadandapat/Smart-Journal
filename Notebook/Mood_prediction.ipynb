{
 "cells": [
  {
   "cell_type": "code",
   "execution_count": 2,
   "id": "5fbb1c0f",
   "metadata": {},
   "outputs": [],
   "source": [
    "import numpy as np\n",
    "import pandas as pd \n",
    "import os\n",
    "from nltk.corpus import stopwords\n",
    "from textblob import Word\n",
    "import re\n",
    "from sklearn import preprocessing\n",
    "from sklearn.model_selection import train_test_split\n",
    "from sklearn.feature_extraction.text import TfidfVectorizer\n",
    "from sklearn.feature_extraction.text import CountVectorizer\n",
    "from sklearn.metrics import accuracy_score\n",
    "from sklearn.naive_bayes import MultinomialNB\n",
    "from sklearn.neural_network import MLPClassifier\n",
    "from sklearn.linear_model import SGDClassifier\n",
    "from sklearn.linear_model import LogisticRegression\n",
    "from sklearn.ensemble import RandomForestClassifier\n",
    "from xgboost import XGBClassifier\n",
    "import warnings\n",
    "warnings.filterwarnings('ignore')"
   ]
  },
  {
   "cell_type": "code",
   "execution_count": 4,
   "id": "1d0977ef",
   "metadata": {},
   "outputs": [],
   "source": [
    "train=pd.read_csv(\n",
    "    os.path.join(os.getcwd(),\"../static/dataset/train.txt\"),\n",
    "    sep=\";\",\n",
    "    names=[\"Text\",\"Emotion\"],\n",
    "    encoding='utf-8')\n",
    "\n",
    "validate=pd.read_csv(\n",
    "   os.path.join(os.getcwd(),\"../static/dataset/val.txt\"),\n",
    "    sep=\";\",\n",
    "    names=[\"Text\",\"Emotion\"],\n",
    "    encoding='utf-8')\n",
    "\n",
    "test=pd.read_csv( \n",
    "    os.path.join(os.getcwd(),\"../static/dataset/test.txt\"),\n",
    "    sep=\";\",\n",
    "    names=[\"Text\",\"Emotion\"],\n",
    "    encoding='utf-8')\n",
    "\n",
    "df = pd.concat([train, validate, test], ignore_index=True)"
   ]
  },
  {
   "cell_type": "code",
   "execution_count": 6,
   "id": "2fb0856b",
   "metadata": {},
   "outputs": [],
   "source": [
    "df['Text'] = df['Text'].astype(pd.StringDtype())"
   ]
  },
  {
   "cell_type": "code",
   "execution_count": null,
   "id": "20451943",
   "metadata": {},
   "outputs": [],
   "source": []
  },
  {
   "cell_type": "code",
   "execution_count": 7,
   "id": "27549375",
   "metadata": {},
   "outputs": [
    {
     "data": {
      "text/plain": [
       "0                                  i didnt feel humiliated\n",
       "1        i can go from feeling so hopeless to so damned...\n",
       "2         im grabbing a minute to post i feel greedy wrong\n",
       "3        i am ever feeling nostalgic about the fireplac...\n",
       "4                                     i am feeling grouchy\n",
       "                               ...                        \n",
       "19995    i just keep feeling like someone is being unki...\n",
       "19996    im feeling a little cranky negative after this...\n",
       "19997    i feel that i am useful to my people and that ...\n",
       "19998    im feeling more comfortable with derby i feel ...\n",
       "19999    i feel all weird when i have to meet w people ...\n",
       "Name: Text, Length: 20000, dtype: string"
      ]
     },
     "execution_count": 7,
     "metadata": {},
     "output_type": "execute_result"
    }
   ],
   "source": [
    "df.Text"
   ]
  },
  {
   "cell_type": "code",
   "execution_count": 8,
   "id": "3549466d",
   "metadata": {},
   "outputs": [
    {
     "data": {
      "text/plain": [
       "(20000, 2)"
      ]
     },
     "execution_count": 8,
     "metadata": {},
     "output_type": "execute_result"
    }
   ],
   "source": [
    "df.shape"
   ]
  },
  {
   "cell_type": "code",
   "execution_count": 9,
   "id": "4c7b5a94",
   "metadata": {},
   "outputs": [
    {
     "data": {
      "text/plain": [
       "array(['sadness', 'anger', 'love', 'surprise', 'fear', 'joy'],\n",
       "      dtype=object)"
      ]
     },
     "execution_count": 9,
     "metadata": {},
     "output_type": "execute_result"
    }
   ],
   "source": [
    "df.Emotion.unique()"
   ]
  },
  {
   "cell_type": "markdown",
   "id": "d7c12231",
   "metadata": {},
   "source": [
    "# Adding emoji"
   ]
  },
  {
   "cell_type": "code",
   "execution_count": 11,
   "id": "1e0e1c3a",
   "metadata": {},
   "outputs": [],
   "source": [
    "anger_emoji = [\"😠\",\"👿\",\"💢\",\"💥\",\"🔥\", \"😡\" ,\"😤\", \"👺\", \"💢\" ]\n",
    "sadness_emoji = [\"😔\",\"😢\",\"😞\",\"😭\",\"😥\",\"💔\" ,\"😿\",  \"🥺\" ,\"😟\", \"🙁\", \"😖\", \"😫\", \"😪\",\"😩\", \"😓\", \"😕\"]\n",
    "love_emoji = [\"❤️\",\"💕\",\"💘\",\"💝\",\"💞\",\"😍\"  ,\"😘\",   \"💏\",  \"💌\",  \"💓\"  ,\"💐\" , \"🤟\",  \"😻\" ,  \"💙\" , \"❤\" , \"😙\" ,  \"💚\" , \"🥰\"  ,\"❤️‍🔥\" ]\n",
    "surprise_emoji = [\"😱\",\"😲\",\"😮\",\"😯\",\"🤯\",\"🙀\", \"😱\",  \"😯\",  \"🎁\",   \"😟\",  \"🤨\" ,  \"🤭\"  ]\n",
    "fear_emoji = [\"😨\",\"😰\",\"😱\",\"😬\",\"🥺\",\"💀\"]\n",
    "joy_emoji = [\"😂\",\"😃\",\"😀\",\"😊\",\"😍\",\"🤩\", \"😂\", \"🤣\" ,\"😂\" ]"
   ]
  },
  {
   "cell_type": "code",
   "execution_count": 12,
   "id": "f0ed2b78",
   "metadata": {},
   "outputs": [
    {
     "name": "stdout",
     "output_type": "stream",
     "text": [
      "👿\n",
      "<class 'str'>\n"
     ]
    }
   ],
   "source": [
    "import random\n",
    "random_element = random.choice(anger_emoji)\n",
    "print(random_element)\n",
    "print(type(random_element))"
   ]
  },
  {
   "cell_type": "code",
   "execution_count": 13,
   "id": "1942a6bf",
   "metadata": {},
   "outputs": [],
   "source": [
    "df['Text'][df['Emotion']==\"anger\"] = df['Text'].apply(lambda x: x +\" \"+ random.choice(anger_emoji)+ \" \")\n",
    "df['Text'][df['Emotion']==\"sadness\"] = df['Text'].apply(lambda x: x +\" \"+ random.choice(sadness_emoji)+ \" \")\n",
    "df['Text'][df['Emotion']==\"love\"] = df['Text'].apply(lambda x:x +\" \"+random.choice(love_emoji)+ \" \")\n",
    "df['Text'][df['Emotion']==\"surprise\"] = df['Text'].apply(lambda x: x +\" \"+ random.choice(surprise_emoji)+ \" \")\n",
    "df['Text'][df['Emotion']==\"fear\"] = df['Text'].apply(lambda x: x +\" \"+ random.choice(fear_emoji)+ \" \")\n",
    "df['Text'][df['Emotion']==\"joy\"] = df['Text'].apply(lambda x: x +\" \"+ random.choice(joy_emoji)+ \" \")"
   ]
  },
  {
   "cell_type": "code",
   "execution_count": 14,
   "id": "3b1b52b1",
   "metadata": {},
   "outputs": [
    {
     "data": {
      "text/plain": [
       "3        i am ever feeling nostalgic about the fireplac...\n",
       "9                                   i feel romantic too 💓 \n",
       "47       i can t let go of that sad feeling that i want...\n",
       "61       i ate i could feel a gentle tingle throughout ...\n",
       "68       i suppose my own truth needs to be shared i ha...\n",
       "                               ...                        \n",
       "19961    i remember wanting to fit in so bad and feelin...\n",
       "19969           i can feel the warmth of the gentle sun 💚 \n",
       "19970    i guess as long as the table in the above is p...\n",
       "19990    i really feel like they were gentle reminders ...\n",
       "19991    i dont blame it all to them and im not angry a...\n",
       "Name: Text, Length: 1641, dtype: string"
      ]
     },
     "execution_count": 14,
     "metadata": {},
     "output_type": "execute_result"
    }
   ],
   "source": [
    "df.Text[df.Emotion == 'love']"
   ]
  },
  {
   "cell_type": "code",
   "execution_count": 18,
   "id": "1473ad23",
   "metadata": {},
   "outputs": [],
   "source": [
    "df.to_csv(\"../static/dataset/emoji_dataset.csv\",index=False)"
   ]
  },
  {
   "cell_type": "code",
   "execution_count": null,
   "id": "884e1606",
   "metadata": {},
   "outputs": [],
   "source": []
  }
 ],
 "metadata": {
  "kernelspec": {
   "display_name": "Python 3 (ipykernel)",
   "language": "python",
   "name": "python3"
  },
  "language_info": {
   "codemirror_mode": {
    "name": "ipython",
    "version": 3
   },
   "file_extension": ".py",
   "mimetype": "text/x-python",
   "name": "python",
   "nbconvert_exporter": "python",
   "pygments_lexer": "ipython3",
   "version": "3.9.0"
  }
 },
 "nbformat": 4,
 "nbformat_minor": 5
}
