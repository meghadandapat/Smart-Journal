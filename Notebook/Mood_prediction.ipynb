{
 "cells": [
  {
   "cell_type": "code",
   "execution_count": 1,
   "id": "5fbb1c0f",
   "metadata": {},
   "outputs": [],
   "source": [
    "import numpy as np\n",
    "import pandas as pd \n",
    "import random\n",
    "import os"
   ]
  },
  {
   "cell_type": "code",
   "execution_count": 2,
   "id": "1d0977ef",
   "metadata": {},
   "outputs": [],
   "source": [
    "train=pd.read_csv(\n",
    "    os.path.join(os.getcwd(),\"../static/dataset/train.txt\"),\n",
    "    sep=\";\",\n",
    "    names=[\"Text\",\"Emotion\"],\n",
    "    encoding='utf-8')\n",
    "\n",
    "validate=pd.read_csv(\n",
    "   os.path.join(os.getcwd(),\"../static/dataset/val.txt\"),\n",
    "    sep=\";\",\n",
    "    names=[\"Text\",\"Emotion\"],\n",
    "    encoding='utf-8')\n",
    "\n",
    "test=pd.read_csv( \n",
    "    os.path.join(os.getcwd(),\"../static/dataset/test.txt\"),\n",
    "    sep=\";\",\n",
    "    names=[\"Text\",\"Emotion\"],\n",
    "    encoding='utf-8')\n",
    "\n",
    "df = pd.concat([validate, test], ignore_index=True)"
   ]
  },
  {
   "cell_type": "code",
   "execution_count": 3,
   "id": "2fb0856b",
   "metadata": {},
   "outputs": [],
   "source": [
    "df['Text'] = df['Text'].astype(pd.StringDtype())"
   ]
  },
  {
   "cell_type": "code",
   "execution_count": 4,
   "id": "27549375",
   "metadata": {},
   "outputs": [
    {
     "data": {
      "text/plain": [
       "0       im feeling quite sad and sorry for myself but ...\n",
       "1       i feel like i am still looking at a blank canv...\n",
       "2                          i feel like a faithful servant\n",
       "3                       i am just feeling cranky and blue\n",
       "4       i can have for a treat or if i am feeling festive\n",
       "                              ...                        \n",
       "3995    i just keep feeling like someone is being unki...\n",
       "3996    im feeling a little cranky negative after this...\n",
       "3997    i feel that i am useful to my people and that ...\n",
       "3998    im feeling more comfortable with derby i feel ...\n",
       "3999    i feel all weird when i have to meet w people ...\n",
       "Name: Text, Length: 4000, dtype: string"
      ]
     },
     "execution_count": 4,
     "metadata": {},
     "output_type": "execute_result"
    }
   ],
   "source": [
    "df.Text"
   ]
  },
  {
   "cell_type": "markdown",
   "id": "d7c12231",
   "metadata": {},
   "source": [
    "# Adding emoji"
   ]
  },
  {
   "cell_type": "code",
   "execution_count": 5,
   "id": "1e0e1c3a",
   "metadata": {},
   "outputs": [],
   "source": [
    "anger_emoji = [\"😠\",\"👿\",\"💢\",\"💥\",\"🔥\", \"😡\" ,\"😤\", \"👺\", \"💢\" ]\n",
    "sadness_emoji = [\"😔\",\"😢\",\"😞\",\"😭\",\"😥\",\"💔\" ,\"😿\",  \"🥺\" ,\"😟\", \"🙁\", \"😖\", \"😫\", \"😪\",\"😩\", \"😓\", \"😕\"]\n",
    "love_emoji = [\"❤️\",\"💕\",\"💘\",\"💝\",\"💞\",\"😍\"  ,\"😘\",   \"💏\",  \"💌\",  \"💓\"  ,\"💐\" , \"🤟\",  \"😻\" ,  \"💙\" , \"❤\" , \"😙\" ,  \"💚\" , \"🥰\"  ,\"❤️‍🔥\" ]\n",
    "surprise_emoji = [\"😱\",\"😲\",\"😮\",\"😯\",\"🤯\",\"🙀\", \"😱\",  \"😯\",  \"🎁\",   \"😟\",  \"🤨\" ,  \"🤭\"  ]\n",
    "fear_emoji = [\"😨\",\"😰\",\"😱\",\"😬\",\"🥺\",\"💀\"]\n",
    "joy_emoji = [\"😂\",\"😃\",\"😀\",\"😊\",\"😍\",\"🤩\", \"😂\", \"🤣\" ,\"😂\" ]"
   ]
  },
  {
   "cell_type": "code",
   "execution_count": 6,
   "id": "1942a6bf",
   "metadata": {},
   "outputs": [],
   "source": [
    "df['Text'][df['Emotion']==\"anger\"] = df['Text'].apply(lambda x: x +\" \"+ random.choice(anger_emoji)+ \" \")\n",
    "df['Text'][df['Emotion']==\"sadness\"] = df['Text'].apply(lambda x: x +\" \"+ random.choice(sadness_emoji)+ \" \")\n",
    "df['Text'][df['Emotion']==\"love\"] = df['Text'].apply(lambda x:x +\" \"+random.choice(love_emoji)+ \" \")\n",
    "df['Text'][df['Emotion']==\"surprise\"] = df['Text'].apply(lambda x: x +\" \"+ random.choice(surprise_emoji)+ \" \")\n",
    "df['Text'][df['Emotion']==\"fear\"] = df['Text'].apply(lambda x: x +\" \"+ random.choice(fear_emoji)+ \" \")\n",
    "df['Text'][df['Emotion']==\"joy\"] = df['Text'].apply(lambda x: x +\" \"+ random.choice(joy_emoji)+ \" \")"
   ]
  },
  {
   "cell_type": "code",
   "execution_count": 7,
   "id": "3b1b52b1",
   "metadata": {},
   "outputs": [
    {
     "data": {
      "text/plain": [
       "2                       i feel like a faithful servant 😙 \n",
       "18      i also loved that you could really feel the de...\n",
       "30      i feel like im caring about my body not in jus...\n",
       "40      i sit the chicken preferably bone in chicken t...\n",
       "48      i see the starlight caress your hair no more f...\n",
       "                              ...                        \n",
       "3961    i remember wanting to fit in so bad and feelin...\n",
       "3969           i can feel the warmth of the gentle sun 💞 \n",
       "3970    i guess as long as the table in the above is p...\n",
       "3990    i really feel like they were gentle reminders ...\n",
       "3991    i dont blame it all to them and im not angry a...\n",
       "Name: Text, Length: 337, dtype: string"
      ]
     },
     "execution_count": 7,
     "metadata": {},
     "output_type": "execute_result"
    }
   ],
   "source": [
    "df.Text[df.Emotion == 'love']"
   ]
  },
  {
   "cell_type": "code",
   "execution_count": 8,
   "id": "350b0863",
   "metadata": {},
   "outputs": [
    {
     "data": {
      "text/html": [
       "<div>\n",
       "<style scoped>\n",
       "    .dataframe tbody tr th:only-of-type {\n",
       "        vertical-align: middle;\n",
       "    }\n",
       "\n",
       "    .dataframe tbody tr th {\n",
       "        vertical-align: top;\n",
       "    }\n",
       "\n",
       "    .dataframe thead th {\n",
       "        text-align: right;\n",
       "    }\n",
       "</style>\n",
       "<table border=\"1\" class=\"dataframe\">\n",
       "  <thead>\n",
       "    <tr style=\"text-align: right;\">\n",
       "      <th></th>\n",
       "      <th>Text</th>\n",
       "      <th>Emotion</th>\n",
       "    </tr>\n",
       "  </thead>\n",
       "  <tbody>\n",
       "    <tr>\n",
       "      <th>3218</th>\n",
       "      <td>im feeling groggy and horrid</td>\n",
       "      <td>sadness</td>\n",
       "    </tr>\n",
       "    <tr>\n",
       "      <th>16191</th>\n",
       "      <td>i could feel the muscles in my arches ankles a...</td>\n",
       "      <td>joy</td>\n",
       "    </tr>\n",
       "    <tr>\n",
       "      <th>18535</th>\n",
       "      <td>i feel like but im not very fond of that word 💙</td>\n",
       "      <td>love</td>\n",
       "    </tr>\n",
       "    <tr>\n",
       "      <th>6378</th>\n",
       "      <td>i have to move stop staring at the other ladie...</td>\n",
       "      <td>joy</td>\n",
       "    </tr>\n",
       "    <tr>\n",
       "      <th>12137</th>\n",
       "      <td>i have this kind of life so my girlfriend woul...</td>\n",
       "      <td>sadness</td>\n",
       "    </tr>\n",
       "    <tr>\n",
       "      <th>...</th>\n",
       "      <td>...</td>\n",
       "      <td>...</td>\n",
       "    </tr>\n",
       "    <tr>\n",
       "      <th>11105</th>\n",
       "      <td>im feeling ive resolved to live a life of love...</td>\n",
       "      <td>joy</td>\n",
       "    </tr>\n",
       "    <tr>\n",
       "      <th>4309</th>\n",
       "      <td>i used feel frustrated all the time</td>\n",
       "      <td>anger</td>\n",
       "    </tr>\n",
       "    <tr>\n",
       "      <th>9644</th>\n",
       "      <td>im starting to feel more sociable again i actu...</td>\n",
       "      <td>joy</td>\n",
       "    </tr>\n",
       "    <tr>\n",
       "      <th>9672</th>\n",
       "      <td>i am feeling devastated the inner voice within...</td>\n",
       "      <td>sadness</td>\n",
       "    </tr>\n",
       "    <tr>\n",
       "      <th>5645</th>\n",
       "      <td>i feel and oh how my heart broke</td>\n",
       "      <td>sadness</td>\n",
       "    </tr>\n",
       "  </tbody>\n",
       "</table>\n",
       "<p>20000 rows × 2 columns</p>\n",
       "</div>"
      ],
      "text/plain": [
       "                                                    Text  Emotion\n",
       "3218                        im feeling groggy and horrid  sadness\n",
       "16191  i could feel the muscles in my arches ankles a...      joy\n",
       "18535   i feel like but im not very fond of that word 💙      love\n",
       "6378   i have to move stop staring at the other ladie...      joy\n",
       "12137  i have this kind of life so my girlfriend woul...  sadness\n",
       "...                                                  ...      ...\n",
       "11105  im feeling ive resolved to live a life of love...      joy\n",
       "4309                 i used feel frustrated all the time    anger\n",
       "9644   im starting to feel more sociable again i actu...      joy\n",
       "9672   i am feeling devastated the inner voice within...  sadness\n",
       "5645                    i feel and oh how my heart broke  sadness\n",
       "\n",
       "[20000 rows x 2 columns]"
      ]
     },
     "execution_count": 8,
     "metadata": {},
     "output_type": "execute_result"
    }
   ],
   "source": [
    "merged = pd.concat([train, df ], ignore_index=True)\n",
    "merged = merged.sample(frac = 1)\n",
    "merged"
   ]
  },
  {
   "cell_type": "code",
   "execution_count": 10,
   "id": "1473ad23",
   "metadata": {},
   "outputs": [],
   "source": [
    "merged.to_csv(\"../static/dataset/emoji_dataset.csv\",index=False)"
   ]
  },
  {
   "cell_type": "code",
   "execution_count": null,
   "id": "884e1606",
   "metadata": {},
   "outputs": [],
   "source": []
  }
 ],
 "metadata": {
  "kernelspec": {
   "display_name": "Python 3 (ipykernel)",
   "language": "python",
   "name": "python3"
  },
  "language_info": {
   "codemirror_mode": {
    "name": "ipython",
    "version": 3
   },
   "file_extension": ".py",
   "mimetype": "text/x-python",
   "name": "python",
   "nbconvert_exporter": "python",
   "pygments_lexer": "ipython3",
   "version": "3.9.0"
  }
 },
 "nbformat": 4,
 "nbformat_minor": 5
}
